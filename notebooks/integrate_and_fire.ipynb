{
 "cells": [
  {
   "cell_type": "markdown",
   "metadata": {},
   "source": [
    "# Leaky Integrate-and-Fire Neuron\n",
    "\n",
    "The integrate-and-fire neuron was first envisioned by the French neuroscientist [Louis Lapicque](https://en.wikipedia.org/wiki/Louis_Lapicque) in 1907. Although the neuron theory was already stablished some years before, the nature of the action potentials was still unknown [[1]](#References). Therefore, the integrate-and-fire model tries the reproduce the electrical activity of a neuron, disregarding the mechanisms underlying it. In this notebook, we will deal with a modification of the this model: the leaky integrate-and-fire neuron. \n",
    "\n",
    "A neuron can be modeled as an RC circuit. The figure below shows the analogy between a neuron and a RC circuit. The main idea behind the model is the following: the cell membrane separates both the external and internal environment of a cell. The internal environment –named [cytosol](https://en.wikipedia.org/wiki/Cytosol)– is rich in negative charged molecules; the external environment is however, majoritarily compounded by positive charged molecules. Hence, the cell membrane that divides both environments functions as a insulator. If an external current $I$ is applied to the neuron, this will charge the membrane. This current can be understood as the entrance of positive ions towards the cytosol. Whenever the current is droped, the cell membrane will slowly return to its original charge. Therefore, the cell membrane acts similarly to a condensor. These properties allow the neuron to be represented as a RC circuit.\n",
    "\n",
    "<p align=\"center\">\n",
    "    <img width=\"600\" height=\"600\" src=\"../images/Integrate&Fire.png\">\n",
    "</p>\n",
    "\n",
    "The cell membrane can be represented by a first order differential equation (ODE) [[2]](#References):  \n",
    "\n",
    "<br/>\n",
    "$$\n",
    "\\begin{equation}\n",
    "I(t) = \\frac{V(t) - V_R}{R} + C \\frac{d V}{dt},\n",
    "\\end{equation}\n",
    "$$\n",
    "<br/>\n",
    "\n",
    "where $V(t)$ is the internal potential over time, $V_R$ the resting membrane potential, $I(t)$ the injected current over time, $R$ the resistance of the membrane and $C$ its capacitance. We will assume that the current are is kept constant, $I$. Bearing this in mind, we can rearrange the equation:\n",
    "\n",
    "<br/>\n",
    "$$\n",
    "\\begin{equation}\n",
    "\\tau\\frac{dV}{dt} = - (V(t) - V_R) + RI,\n",
    "\\end{equation}\n",
    "$$\n",
    "<br/>\n",
    "\n",
    "where $\\tau = RC$. This ODE can be solved by separation of variables for $V(t_0) = V_R$:\n",
    "\n",
    "<br/>\n",
    "$$\n",
    "\\begin{equation}\n",
    "\\int^{V(t)}_{V_R} \\frac{1}{-(V-V_R)+RI} = \\int^{t}_{0} \\frac{1}{\\tau}dt \\\\\n",
    "\\end{equation}\n",
    "$$\n",
    "<br/>\n",
    "$$\n",
    "\\begin{equation}\n",
    "-\\Big [\\log |-(V-V_R)+RI| \\Big ]^{V(t)}_{V_R} = \\frac{t}{\\tau} \\\\\n",
    "\\end{equation}\n",
    "$$\n",
    "<br/>\n",
    "$$\n",
    "\\begin{equation}\n",
    "\\log{\\frac{-(V-V_R)+RI}{RI}} = \\frac{t}{\\tau} \\\\\n",
    "\\end{equation}\n",
    "$$\n",
    "<br/>\n",
    "$$\n",
    "\\begin{equation}\n",
    "\\boxed{V(t) = V_R + RI(1 - e^{-\\frac{t}{\\tau}})}\n",
    "\\end{equation}\n",
    "$$"
   ]
  },
  {
   "cell_type": "markdown",
   "metadata": {},
   "source": [
    "Finally we have to introduce the firing. Whenever the potential of the cell reaches a given threshold $\\theta$, a spike will be produced. Consequently, the potential of the cell will decrease back its resting potential. Mathematically, we can describe this behavior as a piecewise function:\n",
    "\n",
    "<br/>\n",
    "$$\n",
    "V(t) = \n",
    "\\begin{cases}\n",
    "0, &\\quad\\text{if } V(t) > \\theta \\\\\n",
    "V(t) = V_R + RI(1 - e^{-\\frac{t}{\\tau}}), &\\quad\\text{otherwise}\n",
    "\\end{cases}\n",
    "$$"
   ]
  },
  {
   "cell_type": "markdown",
   "metadata": {},
   "source": [
    "Note that $t$ is also reseted after a spike is produced."
   ]
  },
  {
   "cell_type": "code",
   "execution_count": 1,
   "metadata": {},
   "outputs": [],
   "source": [
    "# Add temporary path to code\n",
    "import sys\n",
    "sys.path.append(\"..\")\n",
    "\n",
    "# Import the module with the LeakyIntegrateAndFire model\n",
    "from neural_models import LeakyIntegrateAndFire\n",
    "\n",
    "# Create the model\n",
    "model = LeakyIntegrateAndFire(VR=-70, R=100, C=0.3, theta=-55)\n",
    "\n",
    "# Run the model\n",
    "model.run(current=0.3)"
   ]
  },
  {
   "cell_type": "code",
   "execution_count": 2,
   "metadata": {},
   "outputs": [
    {
     "data": {
      "text/plain": [
       "<Figure size 800x500 with 1 Axes>"
      ]
     },
     "metadata": {},
     "output_type": "display_data"
    }
   ],
   "source": [
    "import matplotlib.pyplot as plt\n",
    "import numpy as np\n",
    "\n",
    "# Plot the results\n",
    "plt.figure(figsize=(8, 5))\n",
    "plt.plot(model.tvec, model.V, color='royalblue')\n",
    "plt.plot(model.tvec, np.repeat(model.theta, len(model.V)),\n",
    "         color='lightcoral', linestyle='--')\n",
    "plt.xlabel('time [t]', fontsize=12)\n",
    "plt.ylabel('Voltage [V]', fontsize=12)\n",
    "plt.grid(alpha=0.3)\n",
    "plt.show()"
   ]
  },
  {
   "cell_type": "markdown",
   "metadata": {},
   "source": [
    "The plot shows how the voltage of the cell changes as a function of time. The red dashed line corresponds to $\\theta$. For $t = 0$, the neuron is at its resting potential. At $t>0$ the current is applied. The membrane potential increases until reaching the threshold. Afterward, the neuron spikes and its potential decreases back to $V_R$ (according to the equation above).\n",
    "\n",
    "In addition, it will be interesting to compute the period and spiking frequency given a constant intensity. Analitically, it will be the time when $V(t) = \\theta$:\n",
    "\n",
    "<br/>\n",
    "$$\n",
    "\\theta = V_R + RI(1 - e^{-\\frac{T}{\\tau}}),\n",
    "$$\n",
    "<br/>\n",
    "\n",
    "where $T$ is the spiking period. By isolating $T$:  \n",
    "\n",
    "<br/>\n",
    "$$\n",
    "T = - \\tau \\log{\\Big |1 - \\frac{\\theta - V_R}{RI} \\Big|}\n",
    "$$\n",
    "<br/>\n",
    "\n",
    "The frequency is by definition:  \n",
    "\n",
    "<br/>\n",
    "$$\n",
    "f = \\frac{1}{T}\n",
    "$$\n",
    "<br/>"
   ]
  },
  {
   "cell_type": "code",
   "execution_count": 3,
   "metadata": {},
   "outputs": [
    {
     "name": "stdout",
     "output_type": "stream",
     "text": [
      "20.79441541679836\n"
     ]
    }
   ],
   "source": [
    "period = - model.tau * np.log(1 - (model.theta - model.VR) / (model.R * model.current))\n",
    "\n",
    "print(period)"
   ]
  },
  {
   "cell_type": "markdown",
   "metadata": {},
   "source": [
    "For the example above, the period $T = 20.784$ implies the neuron fires approximately each 21ms. If we want to observe a determined number of $N$ spikes, we can calculate the time of simulation needed as follows:  \n",
    "  \n",
    "<br/>\n",
    "$$\n",
    "t = NT = \\frac{N}{f}\n",
    "$$\n",
    "<br/>"
   ]
  },
  {
   "cell_type": "markdown",
   "metadata": {},
   "source": [
    "For example, if we want to observe $N = 10$ spikes, we have to run the simulation for approximately 208 ms:"
   ]
  },
  {
   "cell_type": "code",
   "execution_count": 4,
   "metadata": {},
   "outputs": [],
   "source": [
    "# Run and plot the model\n",
    "model.run(t=208, current=0.3)"
   ]
  },
  {
   "cell_type": "code",
   "execution_count": 5,
   "metadata": {},
   "outputs": [
    {
     "data": {
      "image/png": "[encoded data removed]",
      "text/plain": [
       "<Figure size 576x360 with 1 Axes>"
      ]
     },
     "metadata": {
      "needs_background": "light"
     },
     "output_type": "display_data"
    }
   ],
   "source": [
    "# Plot the results\n",
    "plt.figure(figsize=(8, 5))\n",
    "plt.plot(model.tvec, model.V, color='royalblue')\n",
    "plt.plot(model.tvec, np.repeat(model.theta, len(model.V)),\n",
    "         color='lightcoral', linestyle='--')\n",
    "plt.xlabel('time [t]', fontsize=12)\n",
    "plt.ylabel('Voltage [V]', fontsize=12)\n",
    "plt.grid(alpha=0.3)\n",
    "plt.show()"
   ]
  },
  {
   "cell_type": "markdown",
   "metadata": {},
   "source": [
    "# References\n",
    "1. [Lapicque's introduction of the integrate-and-fire model neuron](https://web.archive.org/web/20070613230629/http://neurotheory.columbia.edu/~larry/AbbottBrResBul99.pdf)\n",
    "2. [Neuronal Dynamics: Chapter 1](https://neuronaldynamics.epfl.ch/book.html)"
   ]
  }
 ],
 "metadata": {
  "kernelspec": {
   "display_name": "Python 3",
   "language": "python",
   "name": "python3"
  },
  "language_info": {
   "codemirror_mode": {
    "name": "ipython",
    "version": 3
   },
   "file_extension": ".py",
   "mimetype": "text/x-python",
   "name": "python",
   "nbconvert_exporter": "python",
   "pygments_lexer": "ipython3",
   "version": "3.7.4"
  }
 },
 "nbformat": 4,
 "nbformat_minor": 4
}
